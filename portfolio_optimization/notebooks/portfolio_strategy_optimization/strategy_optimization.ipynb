{
 "cells": [
  {
   "cell_type": "code",
   "execution_count": 1,
   "id": "46af72a5",
   "metadata": {},
   "outputs": [
    {
     "name": "stdout",
     "output_type": "stream",
     "text": [
      "[*********************100%***********************]  4 of 4 completed\n"
     ]
    },
    {
     "data": {
      "text/html": [
       "<div>\n",
       "<style scoped>\n",
       "    .dataframe tbody tr th:only-of-type {\n",
       "        vertical-align: middle;\n",
       "    }\n",
       "\n",
       "    .dataframe tbody tr th {\n",
       "        vertical-align: top;\n",
       "    }\n",
       "\n",
       "    .dataframe thead th {\n",
       "        text-align: right;\n",
       "    }\n",
       "</style>\n",
       "<table border=\"1\" class=\"dataframe\">\n",
       "  <thead>\n",
       "    <tr style=\"text-align: right;\">\n",
       "      <th></th>\n",
       "      <th>AAPL</th>\n",
       "      <th>TSLA</th>\n",
       "      <th>FB</th>\n",
       "      <th>MSFT</th>\n",
       "    </tr>\n",
       "    <tr>\n",
       "      <th>Date</th>\n",
       "      <th></th>\n",
       "      <th></th>\n",
       "      <th></th>\n",
       "      <th></th>\n",
       "    </tr>\n",
       "  </thead>\n",
       "  <tbody>\n",
       "    <tr>\n",
       "      <th>2021-04-01</th>\n",
       "      <td>0.006959</td>\n",
       "      <td>0.014022</td>\n",
       "      <td>0.027909</td>\n",
       "      <td>-0.009252</td>\n",
       "    </tr>\n",
       "    <tr>\n",
       "      <th>2021-04-05</th>\n",
       "      <td>0.023577</td>\n",
       "      <td>0.034320</td>\n",
       "      <td>0.027729</td>\n",
       "      <td>0.044277</td>\n",
       "    </tr>\n",
       "    <tr>\n",
       "      <th>2021-04-06</th>\n",
       "      <td>0.002462</td>\n",
       "      <td>-0.008579</td>\n",
       "      <td>-0.004858</td>\n",
       "      <td>0.000825</td>\n",
       "    </tr>\n",
       "    <tr>\n",
       "      <th>2021-04-07</th>\n",
       "      <td>0.013390</td>\n",
       "      <td>0.022301</td>\n",
       "      <td>0.008230</td>\n",
       "      <td>-0.029857</td>\n",
       "    </tr>\n",
       "    <tr>\n",
       "      <th>2021-04-08</th>\n",
       "      <td>0.019234</td>\n",
       "      <td>-0.000224</td>\n",
       "      <td>0.013405</td>\n",
       "      <td>0.019122</td>\n",
       "    </tr>\n",
       "    <tr>\n",
       "      <th>...</th>\n",
       "      <td>...</td>\n",
       "      <td>...</td>\n",
       "      <td>...</td>\n",
       "      <td>...</td>\n",
       "    </tr>\n",
       "    <tr>\n",
       "      <th>2022-03-24</th>\n",
       "      <td>0.022678</td>\n",
       "      <td>0.028624</td>\n",
       "      <td>0.015393</td>\n",
       "      <td>0.014823</td>\n",
       "    </tr>\n",
       "    <tr>\n",
       "      <th>2022-03-25</th>\n",
       "      <td>0.003734</td>\n",
       "      <td>0.010247</td>\n",
       "      <td>-0.001381</td>\n",
       "      <td>-0.003235</td>\n",
       "    </tr>\n",
       "    <tr>\n",
       "      <th>2022-03-28</th>\n",
       "      <td>0.005037</td>\n",
       "      <td>0.007979</td>\n",
       "      <td>0.023117</td>\n",
       "      <td>0.080345</td>\n",
       "    </tr>\n",
       "    <tr>\n",
       "      <th>2022-03-29</th>\n",
       "      <td>0.019134</td>\n",
       "      <td>0.028042</td>\n",
       "      <td>0.015159</td>\n",
       "      <td>0.007080</td>\n",
       "    </tr>\n",
       "    <tr>\n",
       "      <th>2022-03-30</th>\n",
       "      <td>-0.006649</td>\n",
       "      <td>-0.008744</td>\n",
       "      <td>-0.004914</td>\n",
       "      <td>-0.005075</td>\n",
       "    </tr>\n",
       "  </tbody>\n",
       "</table>\n",
       "<p>252 rows × 4 columns</p>\n",
       "</div>"
      ],
      "text/plain": [
       "                AAPL      TSLA        FB      MSFT\n",
       "Date                                              \n",
       "2021-04-01  0.006959  0.014022  0.027909 -0.009252\n",
       "2021-04-05  0.023577  0.034320  0.027729  0.044277\n",
       "2021-04-06  0.002462 -0.008579 -0.004858  0.000825\n",
       "2021-04-07  0.013390  0.022301  0.008230 -0.029857\n",
       "2021-04-08  0.019234 -0.000224  0.013405  0.019122\n",
       "...              ...       ...       ...       ...\n",
       "2022-03-24  0.022678  0.028624  0.015393  0.014823\n",
       "2022-03-25  0.003734  0.010247 -0.001381 -0.003235\n",
       "2022-03-28  0.005037  0.007979  0.023117  0.080345\n",
       "2022-03-29  0.019134  0.028042  0.015159  0.007080\n",
       "2022-03-30 -0.006649 -0.008744 -0.004914 -0.005075\n",
       "\n",
       "[252 rows x 4 columns]"
      ]
     },
     "execution_count": 1,
     "metadata": {},
     "output_type": "execute_result"
    }
   ],
   "source": [
    "import yfinance as yf\n",
    "\n",
    "# Get the required price data\n",
    "stocks = ['AAPL', 'TSLA', 'FB', 'MSFT']\n",
    "price_data = yf.download(stocks, start='2021-04-01', end='2022-03-31')\n",
    "price_data = price_data.loc[:,'Adj Close']\n",
    "price_data.columns = stocks\n",
    "\n",
    "# Calculate returns and drop rows with NaN values\n",
    "stock_returns = price_data[stocks].pct_change().dropna()\n",
    "\n",
    "stock_returns"
   ]
  },
  {
   "cell_type": "code",
   "execution_count": 2,
   "id": "c3c3799d",
   "metadata": {
    "scrolled": true
   },
   "outputs": [
    {
     "data": {
      "text/html": [
       "<div>\n",
       "<style scoped>\n",
       "    .dataframe tbody tr th:only-of-type {\n",
       "        vertical-align: middle;\n",
       "    }\n",
       "\n",
       "    .dataframe tbody tr th {\n",
       "        vertical-align: top;\n",
       "    }\n",
       "\n",
       "    .dataframe thead th {\n",
       "        text-align: right;\n",
       "    }\n",
       "</style>\n",
       "<table border=\"1\" class=\"dataframe\">\n",
       "  <thead>\n",
       "    <tr style=\"text-align: right;\">\n",
       "      <th></th>\n",
       "      <th>Weights(%)</th>\n",
       "    </tr>\n",
       "  </thead>\n",
       "  <tbody>\n",
       "    <tr>\n",
       "      <th>AAPL</th>\n",
       "      <td>75.85</td>\n",
       "    </tr>\n",
       "    <tr>\n",
       "      <th>TSLA</th>\n",
       "      <td>0.00</td>\n",
       "    </tr>\n",
       "    <tr>\n",
       "      <th>FB</th>\n",
       "      <td>11.45</td>\n",
       "    </tr>\n",
       "    <tr>\n",
       "      <th>MSFT</th>\n",
       "      <td>12.70</td>\n",
       "    </tr>\n",
       "  </tbody>\n",
       "</table>\n",
       "</div>"
      ],
      "text/plain": [
       "      Weights(%)\n",
       "AAPL       75.85\n",
       "TSLA        0.00\n",
       "FB         11.45\n",
       "MSFT       12.70"
      ]
     },
     "execution_count": 2,
     "metadata": {},
     "output_type": "execute_result"
    }
   ],
   "source": [
    "import riskfolio as rp\n",
    "\n",
    "# Create a portfolio\n",
    "my_portfolio = rp.Portfolio(returns=stock_returns)\n",
    "\n",
    "# Set the method to estimate expected returns and covariance matrix\n",
    "# The estimations are based on historical data\n",
    "my_portfolio.assets_stats(method_mu='hist', method_cov='hist', d=0.94)\n",
    "\n",
    "# Optimise the portfolio\n",
    "stock_weights = my_portfolio.optimization(\n",
    "    model='Classic', rm='MV', obj='Sharpe', hist=True)*100\n",
    "\n",
    "stock_weights.weights.astype(str)\n",
    "\n",
    "stock_weights.columns = ['Weights(%)']\n",
    "\n",
    "stock_weights.round(2)"
   ]
  },
  {
   "cell_type": "code",
   "execution_count": 3,
   "id": "0751bca8",
   "metadata": {
    "scrolled": true
   },
   "outputs": [
    {
     "data": {
      "image/png": "[encoded data removed]",
      "text/plain": [
       "<Figure size 576x360 with 1 Axes>"
      ]
     },
     "metadata": {},
     "output_type": "display_data"
    }
   ],
   "source": [
    "# Plotting the composition of the portfolio\n",
    "\n",
    "ax = rp.plot_pie(w=stock_weights/100, title='Sharpe Mean Variance', others=0, nrow=4, cmap=\"tab20\",\n",
    "                 height=5, width=8, ax=None)"
   ]
  }
 ],
 "metadata": {
  "kernelspec": {
   "display_name": "Python 3 (ipykernel)",
   "language": "python",
   "name": "python3"
  },
  "language_info": {
   "codemirror_mode": {
    "name": "ipython",
    "version": 3
   },
   "file_extension": ".py",
   "mimetype": "text/x-python",
   "name": "python",
   "nbconvert_exporter": "python",
   "pygments_lexer": "ipython3",
   "version": "3.9.7"
  }
 },
 "nbformat": 4,
 "nbformat_minor": 5
}
